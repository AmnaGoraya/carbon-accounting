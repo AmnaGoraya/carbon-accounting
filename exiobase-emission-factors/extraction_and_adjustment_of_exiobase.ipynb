{
 "cells": [
  {
   "cell_type": "markdown",
   "metadata": {},
   "source": [
    "### Imports"
   ]
  },
  {
   "cell_type": "code",
   "execution_count": 9,
   "metadata": {},
   "outputs": [],
   "source": [
    "import pandas as pd\n",
    "import numpy as np\n",
    "import pycountry"
   ]
  },
  {
   "cell_type": "markdown",
   "metadata": {},
   "source": [
    "### Constants"
   ]
  },
  {
   "cell_type": "code",
   "execution_count": 10,
   "metadata": {},
   "outputs": [],
   "source": [
    "# versions\n",
    "EXIOBASE_VERSION = '3.8.2'\n",
    "IGNITE_VERSION = '1.1'\n",
    "\n",
    "# Rest of world regions as defined in Exiobase\n",
    "ROW_AFRICA = 'Rest of World Africa'\n",
    "ROW_AMERICA = 'Rest of World America'\n",
    "ROW_ASIA = 'Rest of World Asia and Pacific'\n",
    "ROW_EUROPE = 'Rest of World Europe'\n",
    "ROW_ME = 'Rest of World Middle East'\n",
    "\n",
    "# Exiobase column names\n",
    "\n",
    "# Ignite column names\n",
    "\n",
    "EF_CAT_L1 = 'EF Category L1'\n",
    "EF_CAT_L2 = 'EF Category L2'\n",
    "IPCC_AR5 = 'EF IPCC AR5 [kg CO2e/€]'"
   ]
  },
  {
   "cell_type": "markdown",
   "metadata": {},
   "source": [
    "### Helper functions"
   ]
  },
  {
   "cell_type": "code",
   "execution_count": 11,
   "metadata": {},
   "outputs": [],
   "source": [
    "def remove_numbers_from_region(region):\n",
    "    return region[0:2]\n",
    "\n",
    "def add_full_region_name(alpha_2):\n",
    "    if alpha_2 == 'WF':\n",
    "        return ROW_AFRICA\n",
    "    elif alpha_2 == 'WL':\n",
    "        return ROW_AMERICA\n",
    "    elif alpha_2 == 'WA':\n",
    "        return ROW_ASIA\n",
    "    elif alpha_2 == 'WE':\n",
    "        return ROW_EUROPE\n",
    "    elif alpha_2 == 'WM':\n",
    "        return ROW_ME\n",
    "    else: \n",
    "        country = pycountry.countries.get(alpha_2=alpha_2)\n",
    "        if country:\n",
    "            return pycountry.countries.get(alpha_2=alpha_2).name\n",
    "        else:\n",
    "            return 'No country'\n",
    "\n",
    "def scale_val(row, category_percentiles, global_upper_limit, global_lower_limit):\n",
    "    sector = row[EF_CAT_L2]\n",
    "    value = row[IPCC_AR5]\n",
    "    local_lower_limit, local_upper_limit = category_percentiles.loc[category_percentiles[EF_CAT_L2] == sector][IPCC_AR5].values\n",
    "\n",
    "    if value < 0 and value > -global_upper_limit:\n",
    "        return [-value, True]\n",
    "\n",
    "    if value < global_lower_limit and local_lower_limit < global_lower_limit:\n",
    "        return [global_lower_limit, True]\n",
    "    elif value > global_upper_limit and local_upper_limit > global_upper_limit:\n",
    "        return [global_upper_limit, True]\n",
    "\n",
    "    if value < local_lower_limit and not local_lower_limit == 0:\n",
    "        return [local_lower_limit, True]\n",
    "    elif value > local_upper_limit:\n",
    "        return [local_upper_limit, True]\n",
    "    elif value == 0 or value == np.nan:\n",
    "        return [global_lower_limit, True]\n",
    "\n",
    "    return [value, False]"
   ]
  },
  {
   "cell_type": "markdown",
   "metadata": {},
   "source": [
    "### Load full raw database and create Ignite version"
   ]
  },
  {
   "cell_type": "code",
   "execution_count": 12,
   "metadata": {},
   "outputs": [
    {
     "name": "stderr",
     "output_type": "stream",
     "text": [
      "/var/folders/bh/rcxt7tsx5rv2pq74snstw_fr0000gn/T/ipykernel_22067/3393507558.py:77: FutureWarning: In a future version, object-dtype columns with all-bool values will not be included in reductions with bool_only=True. Explicitly cast to bool dtype instead.\n",
      "  m_t = pd.concat([m_t, region_averages], ignore_index=True)\n"
     ]
    },
    {
     "name": "stdout",
     "output_type": "stream",
     "text": [
      "Completed year: 2010\n"
     ]
    },
    {
     "name": "stderr",
     "output_type": "stream",
     "text": [
      "/var/folders/bh/rcxt7tsx5rv2pq74snstw_fr0000gn/T/ipykernel_22067/3393507558.py:77: FutureWarning: In a future version, object-dtype columns with all-bool values will not be included in reductions with bool_only=True. Explicitly cast to bool dtype instead.\n",
      "  m_t = pd.concat([m_t, region_averages], ignore_index=True)\n"
     ]
    },
    {
     "name": "stdout",
     "output_type": "stream",
     "text": [
      "Completed year: 2011\n"
     ]
    },
    {
     "name": "stderr",
     "output_type": "stream",
     "text": [
      "/var/folders/bh/rcxt7tsx5rv2pq74snstw_fr0000gn/T/ipykernel_22067/3393507558.py:77: FutureWarning: In a future version, object-dtype columns with all-bool values will not be included in reductions with bool_only=True. Explicitly cast to bool dtype instead.\n",
      "  m_t = pd.concat([m_t, region_averages], ignore_index=True)\n"
     ]
    },
    {
     "name": "stdout",
     "output_type": "stream",
     "text": [
      "Completed year: 2012\n"
     ]
    },
    {
     "name": "stderr",
     "output_type": "stream",
     "text": [
      "/var/folders/bh/rcxt7tsx5rv2pq74snstw_fr0000gn/T/ipykernel_22067/3393507558.py:77: FutureWarning: In a future version, object-dtype columns with all-bool values will not be included in reductions with bool_only=True. Explicitly cast to bool dtype instead.\n",
      "  m_t = pd.concat([m_t, region_averages], ignore_index=True)\n"
     ]
    },
    {
     "name": "stdout",
     "output_type": "stream",
     "text": [
      "Completed year: 2013\n"
     ]
    },
    {
     "name": "stderr",
     "output_type": "stream",
     "text": [
      "/var/folders/bh/rcxt7tsx5rv2pq74snstw_fr0000gn/T/ipykernel_22067/3393507558.py:77: FutureWarning: In a future version, object-dtype columns with all-bool values will not be included in reductions with bool_only=True. Explicitly cast to bool dtype instead.\n",
      "  m_t = pd.concat([m_t, region_averages], ignore_index=True)\n"
     ]
    },
    {
     "name": "stdout",
     "output_type": "stream",
     "text": [
      "Completed year: 2014\n"
     ]
    },
    {
     "name": "stderr",
     "output_type": "stream",
     "text": [
      "/var/folders/bh/rcxt7tsx5rv2pq74snstw_fr0000gn/T/ipykernel_22067/3393507558.py:77: FutureWarning: In a future version, object-dtype columns with all-bool values will not be included in reductions with bool_only=True. Explicitly cast to bool dtype instead.\n",
      "  m_t = pd.concat([m_t, region_averages], ignore_index=True)\n"
     ]
    },
    {
     "name": "stdout",
     "output_type": "stream",
     "text": [
      "Completed year: 2015\n"
     ]
    },
    {
     "name": "stderr",
     "output_type": "stream",
     "text": [
      "/var/folders/bh/rcxt7tsx5rv2pq74snstw_fr0000gn/T/ipykernel_22067/3393507558.py:77: FutureWarning: In a future version, object-dtype columns with all-bool values will not be included in reductions with bool_only=True. Explicitly cast to bool dtype instead.\n",
      "  m_t = pd.concat([m_t, region_averages], ignore_index=True)\n"
     ]
    },
    {
     "name": "stdout",
     "output_type": "stream",
     "text": [
      "Completed year: 2016\n"
     ]
    },
    {
     "name": "stderr",
     "output_type": "stream",
     "text": [
      "/var/folders/bh/rcxt7tsx5rv2pq74snstw_fr0000gn/T/ipykernel_22067/3393507558.py:77: FutureWarning: In a future version, object-dtype columns with all-bool values will not be included in reductions with bool_only=True. Explicitly cast to bool dtype instead.\n",
      "  m_t = pd.concat([m_t, region_averages], ignore_index=True)\n"
     ]
    },
    {
     "name": "stdout",
     "output_type": "stream",
     "text": [
      "Completed year: 2017\n"
     ]
    },
    {
     "name": "stderr",
     "output_type": "stream",
     "text": [
      "/var/folders/bh/rcxt7tsx5rv2pq74snstw_fr0000gn/T/ipykernel_22067/3393507558.py:77: FutureWarning: In a future version, object-dtype columns with all-bool values will not be included in reductions with bool_only=True. Explicitly cast to bool dtype instead.\n",
      "  m_t = pd.concat([m_t, region_averages], ignore_index=True)\n"
     ]
    },
    {
     "name": "stdout",
     "output_type": "stream",
     "text": [
      "Completed year: 2018\n"
     ]
    },
    {
     "name": "stderr",
     "output_type": "stream",
     "text": [
      "/var/folders/bh/rcxt7tsx5rv2pq74snstw_fr0000gn/T/ipykernel_22067/3393507558.py:77: FutureWarning: In a future version, object-dtype columns with all-bool values will not be included in reductions with bool_only=True. Explicitly cast to bool dtype instead.\n",
      "  m_t = pd.concat([m_t, region_averages], ignore_index=True)\n"
     ]
    },
    {
     "name": "stdout",
     "output_type": "stream",
     "text": [
      "Completed year: 2019\n"
     ]
    },
    {
     "name": "stderr",
     "output_type": "stream",
     "text": [
      "/var/folders/bh/rcxt7tsx5rv2pq74snstw_fr0000gn/T/ipykernel_22067/3393507558.py:77: FutureWarning: In a future version, object-dtype columns with all-bool values will not be included in reductions with bool_only=True. Explicitly cast to bool dtype instead.\n",
      "  m_t = pd.concat([m_t, region_averages], ignore_index=True)\n"
     ]
    },
    {
     "name": "stdout",
     "output_type": "stream",
     "text": [
      "Completed year: 2020\n"
     ]
    },
    {
     "name": "stderr",
     "output_type": "stream",
     "text": [
      "/var/folders/bh/rcxt7tsx5rv2pq74snstw_fr0000gn/T/ipykernel_22067/3393507558.py:77: FutureWarning: In a future version, object-dtype columns with all-bool values will not be included in reductions with bool_only=True. Explicitly cast to bool dtype instead.\n",
      "  m_t = pd.concat([m_t, region_averages], ignore_index=True)\n"
     ]
    },
    {
     "name": "stdout",
     "output_type": "stream",
     "text": [
      "Completed year: 2021\n",
      "Completed year: 2022\n"
     ]
    },
    {
     "name": "stderr",
     "output_type": "stream",
     "text": [
      "/var/folders/bh/rcxt7tsx5rv2pq74snstw_fr0000gn/T/ipykernel_22067/3393507558.py:77: FutureWarning: In a future version, object-dtype columns with all-bool values will not be included in reductions with bool_only=True. Explicitly cast to bool dtype instead.\n",
      "  m_t = pd.concat([m_t, region_averages], ignore_index=True)\n"
     ]
    }
   ],
   "source": [
    "firstRun = True\n",
    "temp_m = False\n",
    "\n",
    "for year in range(2010, 2023):\n",
    "    for data_type in ['pxp']:\n",
    "        # not a very elegant solution, but it works\n",
    "        if firstRun:\n",
    "            firstRun = False\n",
    "        else:\n",
    "            temp_m = m_t\n",
    "\n",
    "        SOURCE_FOLDER = 'raw-data/' + '/IOT_' + str(year) + '_' + data_type\n",
    "\n",
    "        # load the Exiobase MRIO extension multipliers (M.txt) and gross/total output (x.txt) for the selected year and data_type\n",
    "        m = pd.read_csv(SOURCE_FOLDER + '/impacts/M.txt', sep='\\t', low_memory=False)\n",
    "        x = pd.read_csv(SOURCE_FOLDER + '/x.txt', sep='\\t')\n",
    "\n",
    "        # select the relevant rows and transpose matrix\n",
    "        m_t=m[m.region.isin(['sector', 'Water Consumption Blue - Total',\n",
    "                        'GHG emissions AR5 (GWP100) | GWP100 (IPCC, 2010)', \n",
    "                        'Land use Crop, Forest, Pasture'])].transpose().reset_index()\n",
    "\n",
    "        m_t.columns = ['region', 'sector','Water Consumption Blue - Total','GHG emissions AR5 (GWP100) | GWP100 (IPCC, 2010)', 'Land use Crop, Forest, Pasture']\n",
    "\n",
    "        # remove first row which doesn't have any valuable information after transposing\n",
    "        m_t = m_t.iloc[1:-1]\n",
    "\n",
    "        # change from M€ to €\n",
    "        m_t['EF IPCC AR5 [kg CO2e/€]']=(m_t['GHG emissions AR5 (GWP100) | GWP100 (IPCC, 2010)'].astype(float)/1000000).round(decimals = 8)\n",
    "\n",
    "        # fix alpha2 naming\n",
    "        m_t['EF Alpha2'] = m_t['region'].astype(str).apply(remove_numbers_from_region)\n",
    "\n",
    "        # add full region/ROW name based on alpha 2 naming\n",
    "        m_t['EF Region'] = m_t['EF Alpha2'].astype(str).apply(add_full_region_name)\n",
    "\n",
    "        # rename and add relevant columns\n",
    "        m_t.rename(columns={'Water Consumption Blue - Total':'Water Consumption [m3/€]', 'Land use Crop, Forest, Pasture':'Land Use [m2/€]'}, inplace=True)\n",
    "        m_t['EF Year'] = str(year)\n",
    "        m_t['EF Currency'] = 'EUR'\n",
    "        m_t['EF Source'] = 'Exiobase ' + EXIOBASE_VERSION + ' (Ignite update ' + IGNITE_VERSION + ')'\n",
    "        m_t['EF Category L1'] = 'Product'\n",
    "\n",
    "        # clean up the naming convention of Exiobase\n",
    "        m_t['EF Category L2'] = m_t['sector'].str.replace(r'\\([^)]\\d[^)]*\\)', '', regex=True).str.strip()\n",
    "        m_t['EF Category L2'] = m_t['EF Category L2'].str.replace('products of Vegetable oils and fats', 'Products of vegetable oils and fats')\n",
    "\n",
    "        # set to False for all emission factors initially, then set to True if updated at a later stage\n",
    "        m_t['Adjusted by Ignite'] = False\n",
    "\n",
    "        # added to have a single text description of the unique combination of dimentions for the select emission factor\n",
    "        m_t['EF Unique String'] = m_t['EF Category L1'].astype(str) + '-' + m_t['EF Category L2'].astype(str) + '-' + m_t['EF Region'].astype(str) + '-' + m_t['EF Year'].astype(str)\n",
    "        \n",
    "        # remove columns not longer needed\n",
    "        m_t.drop(columns=['region', 'sector', 'GHG emissions AR5 (GWP100) | GWP100 (IPCC, 2010)'], inplace=True)\n",
    "\n",
    "        # limit outliers \n",
    "        global_lower_limit, global_upper_limit = m_t['EF IPCC AR5 [kg CO2e/€]'].replace(0, np.nan).quantile([0.03,0.97]).values\n",
    "        category_percentiles = m_t.replace(0, np.nan).groupby('EF Category L2')['EF IPCC AR5 [kg CO2e/€]'].quantile([0.05, 0.95]).reset_index()\n",
    "        m_t[['Emission Factor [kg CO2e/€]', 'Adjusted by Ignite']] = m_t[['EF Category L2', 'EF IPCC AR5 [kg CO2e/€]']].apply(lambda row: scale_val(row, category_percentiles, global_upper_limit, global_lower_limit), axis=1, result_type='expand').values\n",
    "\n",
    "        # add regional weighted averages\n",
    "        x.rename(columns={'region':'EF Alpha2', 'sector':'EF Category L2'}, inplace=True)\n",
    "        x['EF Category L2'] = x['EF Category L2'].str.replace(r'\\([^)]\\d[^)]*\\)', '', regex=True).str.strip()\n",
    "        x['EF Category L2'] = x['EF Category L2'].str.replace('products of Vegetable oils and fats', 'Products of vegetable oils and fats')\n",
    "        x['sector_weights'] = x['indout'] / x.groupby('EF Alpha2')['indout'].transform('sum')\n",
    "\n",
    "        number_columns = ['Water Consumption [m3/€]', 'Land Use [m2/€]', 'EF IPCC AR5 [kg CO2e/€]', 'Emission Factor [kg CO2e/€]']\n",
    "        intermediate_df = m_t.merge(right=x, how='left', on=['EF Alpha2', 'EF Category L2'])\n",
    "        intermediate_df[number_columns] = intermediate_df[number_columns].astype(float).multiply(intermediate_df['sector_weights'], axis='index', )\n",
    "      \n",
    "        region_averages = intermediate_df.groupby(['EF Region','EF Alpha2', 'EF Currency', 'EF Source', 'EF Year'])[number_columns].sum().reset_index()\n",
    "        region_averages['EF Category L1'] = 'Regional average'\n",
    "        region_averages['Adjusted by Ignite'] = True\n",
    "        region_averages['EF Unique String'] = region_averages['EF Category L1'].astype(str) + '-' + region_averages['EF Region'].astype(str) + '-' + region_averages['EF Year'].astype(str)\n",
    "\n",
    "        # set dtype of boolean column\n",
    "        m_t['Adjusted by Ignite']=m_t['Adjusted by Ignite'].astype(bool)\n",
    "\n",
    "        # add regional averages for the selected year\n",
    "        m_t = pd.concat([m_t, region_averages], ignore_index=True)\n",
    "\n",
    "        # add data to the already run years if not first year\n",
    "        if type(temp_m) != bool:\n",
    "            m_t = pd.concat([temp_m, m_t], ignore_index=True)\n",
    "\n",
    "        print('Completed year:', year)\n",
    "\n",
    "# reorder columns\n",
    "m_t = m_t[['EF Category L1', 'EF Category L2', 'EF Region', 'EF Year', 'EF Currency', 'EF Source', 'EF Unique String', 'Adjusted by Ignite',  'EF IPCC AR5 [kg CO2e/€]', 'Water Consumption [m3/€]', 'Land Use [m2/€]', 'Emission Factor [kg CO2e/€]']]\n",
    "\n"
   ]
  },
  {
   "cell_type": "markdown",
   "metadata": {},
   "source": [
    "### Store the completed file (EUR-version) in the same directory"
   ]
  },
  {
   "cell_type": "code",
   "execution_count": 13,
   "metadata": {},
   "outputs": [],
   "source": [
    "m_t.to_excel('EUR_Exiobase3_8_2-Ignite1_1-Products_2010-2022.xlsx', index=False)"
   ]
  }
 ],
 "metadata": {
  "interpreter": {
   "hash": "31f2aee4e71d21fbe5cf8b01ff0e069b9275f58929596ceb00d14d90e3e16cd6"
  },
  "kernelspec": {
   "display_name": "Python 3.8.9 64-bit",
   "language": "python",
   "name": "python3"
  },
  "language_info": {
   "codemirror_mode": {
    "name": "ipython",
    "version": 3
   },
   "file_extension": ".py",
   "mimetype": "text/x-python",
   "name": "python",
   "nbconvert_exporter": "python",
   "pygments_lexer": "ipython3",
   "version": "3.9.6"
  },
  "orig_nbformat": 4
 },
 "nbformat": 4,
 "nbformat_minor": 2
}
